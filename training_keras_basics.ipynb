{
  "nbformat": 4,
  "nbformat_minor": 0,
  "metadata": {
    "colab": {
      "name": "training keras basics.ipynb",
      "provenance": [],
      "collapsed_sections": [],
      "authorship_tag": "ABX9TyNHPQHiE02N36vRqbocFXLM",
      "include_colab_link": true
    },
    "kernelspec": {
      "name": "python3",
      "display_name": "Python 3"
    }
  },
  "cells": [
    {
      "cell_type": "markdown",
      "metadata": {
        "id": "view-in-github",
        "colab_type": "text"
      },
      "source": [
        "<a href=\"https://colab.research.google.com/github/faheem-khaskheli/tensorflow_basics/blob/main/training_keras_basics.ipynb\" target=\"_parent\"><img src=\"https://colab.research.google.com/assets/colab-badge.svg\" alt=\"Open In Colab\"/></a>"
      ]
    },
    {
      "cell_type": "code",
      "metadata": {
        "id": "KMtCNPsS09dd"
      },
      "source": [
        "import tensorflow as tf\n",
        "import numpy as np\n",
        "import matplotlib.pyplot as plt"
      ],
      "execution_count": null,
      "outputs": []
    },
    {
      "cell_type": "code",
      "metadata": {
        "id": "13T7MJkv2uph"
      },
      "source": [
        "class Model(object):\n",
        "  def __init__(self):\n",
        "    self.w = tf.Variable(2.0)\n",
        "    self.b = tf.Variable(1.0)\n",
        "  \n",
        "  def __call__(self, x):\n",
        "    return self.w * x + self.b\n",
        "  \n",
        "model = Model()"
      ],
      "execution_count": null,
      "outputs": []
    },
    {
      "cell_type": "code",
      "metadata": {
        "id": "ddMsbTLL3Y54"
      },
      "source": [
        "def loss(predicted_y, target_y):\n",
        "  return tf.reduce_mean(tf.square(predicted_y - target_y))"
      ],
      "execution_count": null,
      "outputs": []
    },
    {
      "cell_type": "code",
      "metadata": {
        "id": "AhRby25w3lM5"
      },
      "source": [
        "TRUE_w = 3.0\n",
        "TRUE_b = 2.0\n",
        "NUM_EXAMPLES = 1000\n",
        "\n",
        "xs = tf.random.normal(shape=[NUM_EXAMPLES])\n",
        "\n",
        "ys = (TRUE_w * xs) + TRUE_b"
      ],
      "execution_count": null,
      "outputs": []
    },
    {
      "cell_type": "code",
      "metadata": {
        "colab": {
          "base_uri": "https://localhost:8080/",
          "height": 282
        },
        "id": "1Fpwoi0O31cB",
        "outputId": "8db2d2d9-f897-4ac0-a29f-3ea0b7e1477c"
      },
      "source": [
        "def plot_data(inputs, outputs, predicted_outputs):\n",
        "  real = plt.scatter(inputs, outputs, c='b')\n",
        "  predicted = plt.scatter(inputs, predicted_outputs, c='r')\n",
        "  plt.legend((real, predicted), ('Real Data', 'Predicted Data'))\n",
        "  plt.show()\n",
        "\n",
        "plot_data(xs, ys, model(xs))\n",
        "print('Current loss: %1.6f' % loss(model(xs), ys).numpy())"
      ],
      "execution_count": null,
      "outputs": [
        {
          "output_type": "display_data",
          "data": {
            "image/png": "[encoded data removed]",
            "text/plain": [
              "<Figure size 432x288 with 1 Axes>"
            ]
          },
          "metadata": {
            "tags": [],
            "needs_background": "light"
          }
        },
        {
          "output_type": "stream",
          "text": [
            "Current loss: 1.938138\n"
          ],
          "name": "stdout"
        }
      ]
    },
    {
      "cell_type": "code",
      "metadata": {
        "id": "2ymaq1Fc4WsJ"
      },
      "source": [
        "def train(model, inputs, outputs, learning_rate):\n",
        "  with tf.GradientTape() as t:\n",
        "    current_loss = loss(model(inputs), outputs)\n",
        "  dw, db = t.gradient(current_loss, [model.w, model.b])\n",
        "  model.w.assign_sub(learning_rate * dw)\n",
        "  model.b.assign_sub(learning_rate * db)\n",
        "\n",
        "  return current_loss"
      ],
      "execution_count": null,
      "outputs": []
    },
    {
      "cell_type": "code",
      "metadata": {
        "colab": {
          "base_uri": "https://localhost:8080/"
        },
        "id": "rkp7APSw5P84",
        "outputId": "5348e73f-0bb2-4e6c-b468-14089a40720c"
      },
      "source": [
        "model = Model()\n",
        "\n",
        "list_w, list_b = [], []\n",
        "epochs = range(40)\n",
        "losses = []\n",
        "for epoch in epochs:\n",
        "  list_w.append(model.w.numpy())\n",
        "  list_b.append(model.b.numpy())\n",
        "  current_loss = train(model, xs, ys, learning_rate=0.1)\n",
        "  losses.append(current_loss)\n",
        "  print('Epoch %2d: w=%1.2f b=%1.2f, loss=%2.5f' %\n",
        "        (epoch, \n",
        "         list_w[-1], \n",
        "         list_b[-1], \n",
        "         current_loss))"
      ],
      "execution_count": null,
      "outputs": [
        {
          "output_type": "stream",
          "text": [
            "Epoch  0: w=2.00 b=1.00, loss=1.93814\n",
            "Epoch  1: w=2.19 b=1.20, loss=1.25875\n",
            "Epoch  2: w=2.34 b=1.36, loss=0.81783\n",
            "Epoch  3: w=2.46 b=1.49, loss=0.53157\n",
            "Epoch  4: w=2.56 b=1.59, loss=0.34564\n",
            "Epoch  5: w=2.64 b=1.68, loss=0.22484\n",
            "Epoch  6: w=2.71 b=1.74, loss=0.14631\n",
            "Epoch  7: w=2.76 b=1.79, loss=0.09525\n",
            "Epoch  8: w=2.81 b=1.84, loss=0.06204\n",
            "Epoch  9: w=2.84 b=1.87, loss=0.04042\n",
            "Epoch 10: w=2.87 b=1.90, loss=0.02635\n",
            "Epoch 11: w=2.90 b=1.92, loss=0.01718\n",
            "Epoch 12: w=2.91 b=1.93, loss=0.01121\n",
            "Epoch 13: w=2.93 b=1.95, loss=0.00731\n",
            "Epoch 14: w=2.94 b=1.96, loss=0.00478\n",
            "Epoch 15: w=2.95 b=1.97, loss=0.00312\n",
            "Epoch 16: w=2.96 b=1.97, loss=0.00204\n",
            "Epoch 17: w=2.97 b=1.98, loss=0.00133\n",
            "Epoch 18: w=2.98 b=1.98, loss=0.00087\n",
            "Epoch 19: w=2.98 b=1.99, loss=0.00057\n",
            "Epoch 20: w=2.98 b=1.99, loss=0.00037\n",
            "Epoch 21: w=2.99 b=1.99, loss=0.00024\n",
            "Epoch 22: w=2.99 b=1.99, loss=0.00016\n",
            "Epoch 23: w=2.99 b=1.99, loss=0.00010\n",
            "Epoch 24: w=2.99 b=2.00, loss=0.00007\n",
            "Epoch 25: w=2.99 b=2.00, loss=0.00005\n",
            "Epoch 26: w=3.00 b=2.00, loss=0.00003\n",
            "Epoch 27: w=3.00 b=2.00, loss=0.00002\n",
            "Epoch 28: w=3.00 b=2.00, loss=0.00001\n",
            "Epoch 29: w=3.00 b=2.00, loss=0.00001\n",
            "Epoch 30: w=3.00 b=2.00, loss=0.00001\n",
            "Epoch 31: w=3.00 b=2.00, loss=0.00000\n",
            "Epoch 32: w=3.00 b=2.00, loss=0.00000\n",
            "Epoch 33: w=3.00 b=2.00, loss=0.00000\n",
            "Epoch 34: w=3.00 b=2.00, loss=0.00000\n",
            "Epoch 35: w=3.00 b=2.00, loss=0.00000\n",
            "Epoch 36: w=3.00 b=2.00, loss=0.00000\n",
            "Epoch 37: w=3.00 b=2.00, loss=0.00000\n",
            "Epoch 38: w=3.00 b=2.00, loss=0.00000\n",
            "Epoch 39: w=3.00 b=2.00, loss=0.00000\n"
          ],
          "name": "stdout"
        }
      ]
    },
    {
      "cell_type": "code",
      "metadata": {
        "colab": {
          "base_uri": "https://localhost:8080/",
          "height": 265
        },
        "id": "R8zt-xov6FND",
        "outputId": "ad0f656a-e28a-44db-9ebd-9b1a3eb40783"
      },
      "source": [
        "plt.plot(epochs, list_w, 'r',\n",
        "         epochs, list_b, 'b')\n",
        "plt.plot([TRUE_w] * len(epochs), 'r--',\n",
        "         [TRUE_b] * len(epochs), 'b--')\n",
        "plt.legend(['w', 'b', 'True w', 'True b'])\n",
        "plt.show()"
      ],
      "execution_count": null,
      "outputs": [
        {
          "output_type": "display_data",
          "data": {
            "image/png": "[encoded data removed]",
            "text/plain": [
              "<Figure size 432x288 with 1 Axes>"
            ]
          },
          "metadata": {
            "tags": [],
            "needs_background": "light"
          }
        }
      ]
    },
    {
      "cell_type": "code",
      "metadata": {
        "colab": {
          "base_uri": "https://localhost:8080/",
          "height": 265
        },
        "id": "k2Ug003e6wf_",
        "outputId": "2130c869-cdd5-43c8-daee-fb94bc42b1e8"
      },
      "source": [
        "test_inputs = tf.random.normal(shape=[NUM_EXAMPLES])\n",
        "test_outputs = test_inputs * TRUE_w + TRUE_b\n",
        "\n",
        "predicted_test_outputs = model(test_inputs)\n",
        "plot_data(test_inputs, test_outputs, predicted_test_outputs)"
      ],
      "execution_count": null,
      "outputs": [
        {
          "output_type": "display_data",
          "data": {
            "image/png": "[encoded data removed]",
            "text/plain": [
              "<Figure size 432x288 with 1 Axes>"
            ]
          },
          "metadata": {
            "tags": [],
            "needs_background": "light"
          }
        }
      ]
    },
    {
      "cell_type": "code",
      "metadata": {
        "id": "YTp7SpIr7bvZ"
      },
      "source": [
        "def plot_loss_for_weights(weights_list, losses):\n",
        "  for idx, weights in enumerate(weights_list):\n",
        "    plt.subplot(120 + idx + 1)\n",
        "    plt.plot(weights['values'], losses, 'r')\n",
        "    plt.plot(weights['values'], losses, 'bo')\n",
        "    plt.xlabel(weights['name'])\n",
        "    plt.ylabel(['Loss'])"
      ],
      "execution_count": null,
      "outputs": []
    },
    {
      "cell_type": "code",
      "metadata": {
        "colab": {
          "base_uri": "https://localhost:8080/",
          "height": 280
        },
        "id": "7FIM-WEl8G_k",
        "outputId": "dd9e75c6-4ed9-418b-cfb7-61ec11494da2"
      },
      "source": [
        "weights_list = [{'name': 'w',\n",
        "                 'values': list_w},\n",
        "                {'name': 'b',\n",
        "                 'values': list_b}]\n",
        "            \n",
        "plot_loss_for_weights(weights_list, losses)"
      ],
      "execution_count": null,
      "outputs": [
        {
          "output_type": "display_data",
          "data": {
            "image/png": "[encoded data removed]",
            "text/plain": [
              "<Figure size 432x288 with 2 Axes>"
            ]
          },
          "metadata": {
            "tags": [],
            "needs_background": "light"
          }
        }
      ]
    },
    {
      "cell_type": "code",
      "metadata": {
        "id": "GAAaeHtKDwZ1"
      },
      "source": [
        "import tensorflow_datasets as tfds"
      ],
      "execution_count": null,
      "outputs": []
    },
    {
      "cell_type": "code",
      "metadata": {
        "id": "QmBtghMeC464"
      },
      "source": [
        "train_data = tfds.load(\"fashion_mnist\", split='train')\n",
        "test_data = tfds.load(\"fashion_mnist\", split='test')\n",
        "\n",
        "def format_image(data):\n",
        "  image = data[\"image\"]\n",
        "  image = tf.reshape(image, [-1])\n",
        "  image = tf.cast(image, 'float32')\n",
        "  image = image / 255.0\n",
        "  return image, data[\"label\"]\n",
        "\n",
        "train_data = train_data.map(format_image)\n",
        "test_data = test_data.map(format_image)\n",
        "\n",
        "batch_size = 64\n",
        "train = train_data.shuffle(buffer_size=1024).batch(batch_size)\n",
        "test = test_data.batch(batch_size)"
      ],
      "execution_count": null,
      "outputs": []
    },
    {
      "cell_type": "code",
      "metadata": {
        "id": "ASRQ-KeJE5np"
      },
      "source": [
        "loss_object = tf.keras.losses.SparseCategoricalCrossentropy()\n",
        "\n",
        "optimizer = tf.keras.optimizers.Adam()"
      ],
      "execution_count": null,
      "outputs": []
    },
    {
      "cell_type": "code",
      "metadata": {
        "id": "3zhnGO9zCQNh"
      },
      "source": [
        "def base_model():\n",
        "  inputs = tf.keras.Input(shape=(784,), \n",
        "                          name='clothing')\n",
        "  x = tf.keras.layers.Dense(64, \n",
        "                            activation='relu', \n",
        "                            name='dense_1')(inputs)\n",
        "  x = tf.keras.layers.Dense(64, \n",
        "                            activation='relu', \n",
        "                            name='dense_2')(x)\n",
        "  outputs = tf.keras.layers.Dense(10, \n",
        "                                  activation='softmax', \n",
        "                                  name='predictions')(x)\n",
        "  model = tf.keras.Model(inputs=inputs, \n",
        "                         outputs=outputs)\n",
        "  return model"
      ],
      "execution_count": null,
      "outputs": []
    },
    {
      "cell_type": "code",
      "metadata": {
        "id": "TUSwLh1QGPlh"
      },
      "source": [
        "def apply_gradient(optimizer, model, x, y):\n",
        "  with tf.GradientTape() as tape:\n",
        "    y_pred = model(x)\n",
        "    loss_value = loss_object(y_true=y, y_pred=y_pred)\n",
        "    gradients = tape.gradient(loss_value, model.trainable_weights)\n",
        "  optimizer.apply_gradients(zip(gradients, model.trainable_weights))\n",
        "  return y_pred, loss_value"
      ],
      "execution_count": null,
      "outputs": []
    },
    {
      "cell_type": "code",
      "metadata": {
        "id": "w57oI2L0Brdv"
      },
      "source": [
        " def train_data_for_one_epoch():\n",
        "  losses = []\n",
        "  for step, (x_batch, y_batch) in enumerate(train_dataset):\n",
        "    logits, loss_value = apply_gradient(optimizer, \n",
        "                                        model, \n",
        "                                        x_batch, \n",
        "                                        y_batch)\n",
        "    losses.append(loss_value)\n",
        "  return losses"
      ],
      "execution_count": null,
      "outputs": []
    },
    {
      "cell_type": "code",
      "metadata": {
        "id": "AXDO42vZ8dPi"
      },
      "source": [
        "model = base_model()\n",
        "epochs = 20\n",
        "for epoch in range(epochs):\n",
        "\n",
        "  losses_train = train_data_for_one_epoch()\n",
        "\n",
        "  losses_val = perform_validation()\n",
        "\n",
        "  losses_train_mean = np.mean(losses_train)\n",
        "  losses_val_mean = np.mean(losses_val)"
      ],
      "execution_count": null,
      "outputs": []
    },
    {
      "cell_type": "code",
      "metadata": {
        "id": "UDC-NZmtLdGb"
      },
      "source": [
        "def apply_gradient(optimizer, model, X_batch, y_batch):\n",
        "  with tf.GradientTape() as tape:\n",
        "    y_pred  = model(x_batch)\n",
        "    loss = loss_object(y_batch, y_pred)\n",
        "  grad = tape.gradient(loss, y_batch)\n",
        "  optimizer.apply_gradients(zip(grad), model.trainable_variables)\n",
        "  return y_pred, loss"
      ],
      "execution_count": null,
      "outputs": []
    }
  ]
}