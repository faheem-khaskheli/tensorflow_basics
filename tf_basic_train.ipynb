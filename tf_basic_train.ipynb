{
  "nbformat": 4,
  "nbformat_minor": 0,
  "metadata": {
    "colab": {
      "name": "tf basic train.ipynb",
      "provenance": [],
      "collapsed_sections": [],
      "authorship_tag": "ABX9TyP98MpgaCgxY2sYaXcy9yb5",
      "include_colab_link": true
    },
    "kernelspec": {
      "name": "python3",
      "display_name": "Python 3"
    }
  },
  "cells": [
    {
      "cell_type": "markdown",
      "metadata": {
        "id": "view-in-github",
        "colab_type": "text"
      },
      "source": [
        "<a href=\"https://colab.research.google.com/github/faheem-khaskheli/tensorflow_basics/blob/main/tf_basic_train.ipynb\" target=\"_parent\"><img src=\"https://colab.research.google.com/assets/colab-badge.svg\" alt=\"Open In Colab\"/></a>"
      ]
    },
    {
      "cell_type": "code",
      "metadata": {
        "id": "pvrV0XAYQQMt"
      },
      "source": [
        "import tensorflow as tf\n",
        "import numpy as np\n",
        "import random"
      ],
      "execution_count": null,
      "outputs": []
    },
    {
      "cell_type": "code",
      "metadata": {
        "id": "PosxVggWQUVl"
      },
      "source": [
        "x = 1"
      ],
      "execution_count": null,
      "outputs": []
    },
    {
      "cell_type": "code",
      "metadata": {
        "colab": {
          "base_uri": "https://localhost:8080/"
        },
        "id": "sUeYpfYtQViF",
        "outputId": "1243d833-484e-4f01-ee5a-ec9d9172492d"
      },
      "source": [
        "tf.square(x).numpy()"
      ],
      "execution_count": null,
      "outputs": [
        {
          "output_type": "execute_result",
          "data": {
            "text/plain": [
              "1"
            ]
          },
          "metadata": {
            "tags": []
          },
          "execution_count": 4
        }
      ]
    },
    {
      "cell_type": "code",
      "metadata": {
        "id": "NQUVFl3yQXVP"
      },
      "source": [
        "y = tf.Variable(1, dtype='uint8')"
      ],
      "execution_count": null,
      "outputs": []
    },
    {
      "cell_type": "code",
      "metadata": {
        "colab": {
          "base_uri": "https://localhost:8080/"
        },
        "id": "wcxmdszPQfGl",
        "outputId": "3349891a-e308-4fc3-9059-0f46bf35839a"
      },
      "source": [
        "print(y.numpy())"
      ],
      "execution_count": null,
      "outputs": [
        {
          "output_type": "stream",
          "text": [
            "1\n"
          ],
          "name": "stdout"
        }
      ]
    },
    {
      "cell_type": "code",
      "metadata": {
        "id": "W2j8k6zdQfZi"
      },
      "source": [
        "z = tf.constant([1,2,3,4], dtype='float32')"
      ],
      "execution_count": null,
      "outputs": []
    },
    {
      "cell_type": "code",
      "metadata": {
        "colab": {
          "base_uri": "https://localhost:8080/"
        },
        "id": "lmDO5UjLQpNb",
        "outputId": "a3e47966-3e84-4608-997f-07adba1ce31e"
      },
      "source": [
        "z.numpy()"
      ],
      "execution_count": null,
      "outputs": [
        {
          "output_type": "execute_result",
          "data": {
            "text/plain": [
              "array([1., 2., 3., 4.], dtype=float32)"
            ]
          },
          "metadata": {
            "tags": []
          },
          "execution_count": 14
        }
      ]
    },
    {
      "cell_type": "code",
      "metadata": {
        "id": "i4locHxNRfQP"
      },
      "source": [
        "x = np.array([1,2,3,4,5], dtype=float)\n",
        "y = (x * 2) + 5"
      ],
      "execution_count": null,
      "outputs": []
    },
    {
      "cell_type": "code",
      "metadata": {
        "id": "gU0_ClKCRqpB"
      },
      "source": [
        "w = tf.Variable(random.random(), trainable=True)\n",
        "b = tf.Variable(random.random(), trainable=True)"
      ],
      "execution_count": null,
      "outputs": []
    },
    {
      "cell_type": "code",
      "metadata": {
        "id": "yBSCCXP0R5gb"
      },
      "source": [
        "def simple_loss(real_y, pred_y):\n",
        "  return tf.abs(real_y - pred_y)"
      ],
      "execution_count": null,
      "outputs": []
    },
    {
      "cell_type": "code",
      "metadata": {
        "id": "QYVtoirLSD2A"
      },
      "source": [
        "LEARNING_RATE = 0.0001"
      ],
      "execution_count": null,
      "outputs": []
    },
    {
      "cell_type": "code",
      "metadata": {
        "id": "7Z87WV4MQpgk"
      },
      "source": [
        "def fit_data(x, y):\n",
        "  with tf.GradientTape(persistent=True) as tape:\n",
        "    pred_y = w * x + b\n",
        "    reg_loss = simple_loss(y, pred_y)\n",
        "  \n",
        "  w_grad = tape.gradient(reg_loss, w)\n",
        "  b_grad = tape.gradient(reg_loss, b)\n",
        "\n",
        "  w.assign_sub(w_grad * LEARNING_RATE)\n",
        "  b.assign_sub(b_grad * LEARNING_RATE)"
      ],
      "execution_count": null,
      "outputs": []
    },
    {
      "cell_type": "code",
      "metadata": {
        "id": "r8rIb6nLSFZG"
      },
      "source": [
        "fit_data(x,y)"
      ],
      "execution_count": null,
      "outputs": []
    },
    {
      "cell_type": "code",
      "metadata": {
        "colab": {
          "base_uri": "https://localhost:8080/"
        },
        "id": "F4mYJo-TSIzf",
        "outputId": "5c0d204a-67eb-44c3-a38c-92a5261bfc44"
      },
      "source": [
        "w.numpy()"
      ],
      "execution_count": null,
      "outputs": [
        {
          "output_type": "execute_result",
          "data": {
            "text/plain": [
              "0.8921586"
            ]
          },
          "metadata": {
            "tags": []
          },
          "execution_count": 31
        }
      ]
    },
    {
      "cell_type": "code",
      "metadata": {
        "colab": {
          "base_uri": "https://localhost:8080/"
        },
        "id": "MHqAgYmfSWOa",
        "outputId": "f5170605-9667-4809-a5c3-787c91d20f52"
      },
      "source": [
        "b.numpy()"
      ],
      "execution_count": null,
      "outputs": [
        {
          "output_type": "execute_result",
          "data": {
            "text/plain": [
              "0.9972372"
            ]
          },
          "metadata": {
            "tags": []
          },
          "execution_count": 32
        }
      ]
    },
    {
      "cell_type": "code",
      "metadata": {
        "id": "3FXdVobfSZMT"
      },
      "source": [
        "def train_model(data, label):\n",
        "  with tf.GradientTape() as tape:\n",
        "    # only forward pass\n",
        "    pred = model(data, training=True)\n",
        "\n",
        "    # loss\n",
        "    loss = loss_function(label, pred)\n",
        "  \n",
        "  # save loss (optional)\n",
        "  loss_history.append(loss_value.numpy().mean())\n",
        "\n",
        "  # calcualte gradient\n",
        "  grad = tape.gradients(loss_value, model.trainable_variables)\n",
        "\n",
        "  # apply gradient\n",
        "  optimizer.apply_gradients(zip(grads, model.trainable_variables))\n"
      ],
      "execution_count": null,
      "outputs": []
    }
  ]
}